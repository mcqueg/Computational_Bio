{
 "cells": [
  {
   "cell_type": "markdown",
   "id": "993a1667-7036-422b-a80e-af2ca3926248",
   "metadata": {},
   "source": [
    "### Python code for measuring conservation"
   ]
  },
  {
   "cell_type": "code",
   "execution_count": 11,
   "id": "18832203-815c-4b2d-aa56-f92d89202f88",
   "metadata": {},
   "outputs": [
    {
     "name": "stdout",
     "output_type": "stream",
     "text": [
      "[['G', 'T', 'A', 'T', 'G', 'G', 'A', 'T', 'G', 'G', 'G', 'G', 'A', 'G', 'C', 'T', 'T', 'C', 'G', 'C', 'A'], ['T', 'G', 'G', 'T', 'T', 'G', 'G', 'A', 'C', 'T', 'T', 'C', 'A', 'T', 'C', 'T', 'T', 'A', 'C', 'A', 'A'], ['G', 'G', 'C', 'C', 'C', 'C', 'A', 'A', 'T', 'A', 'T', 'A', 'A', 'G', 'A', 'C', 'T', 'C', 'C', 'C', 'T'], ['A', 'G', 'A', 'A', 'A', 'C', 'G', 'T', 'C', 'C', 'G', 'T', 'T', 'T', 'C', 'G', 'T', 'T', 'T', 'A', 'A'], ['C', 'C', 'C', 'G', 'C', 'T', 'G', 'C', 'A', 'T', 'G', 'C', 'T', 'C', 'G', 'A', 'G', 'T', 'G', 'C', 'G'], ['A', 'G', 'G', 'A', 'A', 'A', 'A', 'G', 'C', 'A', 'C', 'G', 'A', 'A', 'C', 'G', 'T', 'A', 'T', 'A', 'T'], ['C', 'G', 'T', 'A', 'C', 'G', 'G', 'T', 'T', 'T', 'C', 'A', 'C', 'C', 'T', 'T', 'A', 'G', 'T', 'G', 'A']]\n"
     ]
    }
   ],
   "source": [
    "# set up \n",
    "\n",
    "# import functions to generate a profile abd simMAtrix\n",
    "from MultipleAlign import profile\n",
    "from Alignments import DNA_1, BLOSUM62\n",
    "\n",
    "#generates a random matrix that contains seven rows of 21 column vectors with A, C, T and G\n",
    "import random\n",
    "choices = ['A', 'C', 'T', 'G']\n",
    "randomAlign = []\n",
    "\n",
    "for i in range(7):\n",
    "    randomAlign.append(random.choices(choices,k=21))\n",
    "    \n",
    "print(randomAlign)"
   ]
  },
  {
   "cell_type": "code",
   "execution_count": 12,
   "id": "e4981c38-7a76-4d99-aa06-9079905f0de6",
   "metadata": {},
   "outputs": [
    {
     "name": "stdout",
     "output_type": "stream",
     "text": [
      "[0.26530612244897955, 0.5510204081632654, 0.26530612244897955, 0.30612244897959184, 0.30612244897959184, 0.30612244897959184, 0.510204081632653, 0.30612244897959184, 0.30612244897959184, 0.30612244897959184, 0.346938775510204, 0.26530612244897955, 0.42857142857142855, 0.26530612244897955, 0.3877551020408163, 0.30612244897959184, 0.5510204081632654, 0.26530612244897955, 0.346938775510204, 0.3877551020408163, 0.42857142857142855]\n"
     ]
    }
   ],
   "source": [
    "# function for getting conservation\n",
    "def getConservation(align, simMatrix):\n",
    "    conservation = []\n",
    "    prof = profile(align)\n",
    "    \n",
    "    for compDict in prof:\n",
    "        items = list(compDict.items()) \n",
    "    \n",
    "        items.sort(key=lambda x: x[1])\n",
    "    \n",
    "        score = 0.0\n",
    "    \n",
    "        for resA, compA in items:\n",
    "            for resB, compB in items:\n",
    "                score += compA * compB * simMatrix[resA][resB]\n",
    "    \n",
    "        bestLetter = items[-1][0]\n",
    "        maxScore = simMatrix[bestLetter][bestLetter]\n",
    "        \n",
    "        score /= maxScore\n",
    "        conservation.append(score)\n",
    "        \n",
    "    return conservation\n",
    "\n",
    "\n",
    "\n",
    "print(getConservation(randomAlign, DNA_1))"
   ]
  },
  {
   "cell_type": "markdown",
   "id": "03c53a15-af9c-4e97-834e-69a2022d8768",
   "metadata": {},
   "source": [
    "### Python code for calculating substitution matrices"
   ]
  },
  {
   "cell_type": "code",
   "execution_count": 23,
   "id": "4323fd9b-7639-4c39-9496-582b4227a79d",
   "metadata": {},
   "outputs": [
    {
     "ename": "ZeroDivisionError",
     "evalue": "float division by zero",
     "output_type": "error",
     "traceback": [
      "\u001b[0;31m---------------------------------------------------------------------------\u001b[0m",
      "\u001b[0;31mZeroDivisionError\u001b[0m                         Traceback (most recent call last)",
      "\u001b[0;32m/var/folders/6v/n7k6518972x6bfvr4s25jp240000gn/T/ipykernel_13182/2574223932.py\u001b[0m in \u001b[0;36m<module>\u001b[0;34m\u001b[0m\n\u001b[1;32m     87\u001b[0m \u001b[0;34m\u001b[0m\u001b[0m\n\u001b[1;32m     88\u001b[0m \u001b[0maminoAcids\u001b[0m \u001b[0;34m=\u001b[0m \u001b[0mBLOSUM62\u001b[0m\u001b[0;34m.\u001b[0m\u001b[0mkeys\u001b[0m\u001b[0;34m(\u001b[0m\u001b[0;34m)\u001b[0m\u001b[0;34m\u001b[0m\u001b[0;34m\u001b[0m\u001b[0m\n\u001b[0;32m---> 89\u001b[0;31m \u001b[0mprint\u001b[0m\u001b[0;34m(\u001b[0m\u001b[0mcalcSubstitutionMatrix\u001b[0m\u001b[0;34m(\u001b[0m\u001b[0;34m[\u001b[0m\u001b[0malign2\u001b[0m\u001b[0;34m,\u001b[0m\u001b[0;34m]\u001b[0m\u001b[0;34m,\u001b[0m \u001b[0maminoAcids\u001b[0m\u001b[0;34m,\u001b[0m \u001b[0;36m10\u001b[0m\u001b[0;34m)\u001b[0m\u001b[0;34m)\u001b[0m\u001b[0;34m\u001b[0m\u001b[0;34m\u001b[0m\u001b[0m\n\u001b[0m",
      "\u001b[0;32m/var/folders/6v/n7k6518972x6bfvr4s25jp240000gn/T/ipykernel_13182/2574223932.py\u001b[0m in \u001b[0;36mcalcSubstitutionMatrix\u001b[0;34m(alignments, alphabet, maxVal, smooth)\u001b[0m\n\u001b[1;32m     70\u001b[0m     \u001b[0;32mfor\u001b[0m \u001b[0mresA\u001b[0m \u001b[0;32min\u001b[0m \u001b[0malphabet\u001b[0m\u001b[0;34m:\u001b[0m\u001b[0;34m\u001b[0m\u001b[0;34m\u001b[0m\u001b[0m\n\u001b[1;32m     71\u001b[0m         \u001b[0;32mfor\u001b[0m \u001b[0mresB\u001b[0m \u001b[0;32min\u001b[0m \u001b[0malphabet\u001b[0m\u001b[0;34m:\u001b[0m\u001b[0;34m\u001b[0m\u001b[0;34m\u001b[0m\u001b[0m\n\u001b[0;32m---> 72\u001b[0;31m             \u001b[0mmatrix\u001b[0m\u001b[0;34m[\u001b[0m\u001b[0mresA\u001b[0m\u001b[0;34m]\u001b[0m\u001b[0;34m[\u001b[0m\u001b[0mresB\u001b[0m\u001b[0;34m]\u001b[0m \u001b[0;34m=\u001b[0m \u001b[0mint\u001b[0m\u001b[0;34m(\u001b[0m\u001b[0mmaxVal\u001b[0m\u001b[0;34m*\u001b[0m\u001b[0mmatrix\u001b[0m\u001b[0;34m[\u001b[0m\u001b[0mresA\u001b[0m\u001b[0;34m]\u001b[0m\u001b[0;34m[\u001b[0m\u001b[0mresB\u001b[0m\u001b[0;34m]\u001b[0m\u001b[0;34m/\u001b[0m\u001b[0mmaxScore\u001b[0m\u001b[0;34m)\u001b[0m\u001b[0;34m\u001b[0m\u001b[0;34m\u001b[0m\u001b[0m\n\u001b[0m\u001b[1;32m     73\u001b[0m \u001b[0;34m\u001b[0m\u001b[0m\n\u001b[1;32m     74\u001b[0m     \u001b[0;32mreturn\u001b[0m \u001b[0mmatrix\u001b[0m\u001b[0;34m\u001b[0m\u001b[0;34m\u001b[0m\u001b[0m\n",
      "\u001b[0;31mZeroDivisionError\u001b[0m: float division by zero"
     ]
    }
   ],
   "source": [
    "from math import log\n",
    "\n",
    "def calcSubstitutionMatrix(alignments, alphabet, maxVal, smooth=5):\n",
    "    matrix = {}\n",
    "    counts = {}\n",
    "    \n",
    "    for letterA in alphabet:\n",
    "        subDict = {}\n",
    "        for letterB in alphabet:\n",
    "            subDict[letterB] = 0\n",
    "        matrix[letterA] = subDict\n",
    "        counts[letterA] = 0\n",
    "   \n",
    "    totalRes = 0\n",
    "    totalSub = 0\n",
    "    \n",
    "    \n",
    "    for align in alignments:\n",
    "        numPos = len(align[0])\n",
    "        \n",
    "        for i in range(numPos):\n",
    "            letters = []\n",
    "            \n",
    "            for seq in align:\n",
    "                letter = seq[i]\n",
    "            \n",
    "            if letter == '-':\n",
    "                continue\n",
    "                \n",
    "            letters.append(letter)\n",
    "            \n",
    "    \n",
    "    for letterA in letters:\n",
    "        counts[letterA] += 1\n",
    "        for letterB in letters:\n",
    "            matrix[letterA][letterB] += 1\n",
    "            \n",
    "    numLetters = len(letters)\n",
    "    totalRes += numLetters\n",
    "    totalSub += numLetters * numLetters\n",
    "    \n",
    "    \n",
    "    averageComp = {}\n",
    "    for letter in alphabet:\n",
    "        averageComp[letter] = counts[letter]/totalRes\n",
    "    \n",
    "    \n",
    "    maxScore = None\n",
    "    for resA in alphabet:\n",
    "        for resB in alphabet:\n",
    "            expected = averageComp[resA] * averageComp[resB]\n",
    "            \n",
    "            if not expected:\n",
    "                continue\n",
    "                \n",
    "            observed = matrix[resA][resB]\n",
    "            weight = 1.0 / (1.0+(observed/smooth))\n",
    "            \n",
    "            observed /= totalSub\n",
    "            observed = weight*expected + (1-weight)*observed\n",
    "            \n",
    "            logOdds = log(observed/expected)\n",
    "           \n",
    "            if (maxScore is None) or (logOdds>maxScore):\n",
    "                maxScore = logOdds\n",
    "            matrix[resA][resB] = logOdds\n",
    "    \n",
    "    maxScore = abs(maxScore)\n",
    "    \n",
    "    for resA in alphabet:\n",
    "        for resB in alphabet:\n",
    "            matrix[resA][resB] = int(maxVal*matrix[resA][resB]/maxScore)\n",
    "    \n",
    "    return matrix\n",
    "\n",
    "\n",
    "align2 = ['QPVHPFSRPAPVVIILIILCVMAGVIGTILLISYGIRLLIK-------------',\n",
    "          'QLVHRFTVPAPVVIILIILCVMAGIIGTILLISYTIRRLIK-------------',\n",
    "          'QLAHHFSEPE---ITLIIFGVMAGVIGTILLISYGIRRLIKKSPSDVKPLPSPD',\n",
    "          'QLVHEFSELV---IALIIFGVMAGVIGTILFISYGSRRLIKKSESDVQPLPPPD',\n",
    "          'MLEHEFSAPV---AILIILGVMAGIIGIILLISYSIGQIIKKRSVDIQPPEDED',\n",
    "          'PIQHDFPALV---MILIILGVMAGIIGTILLISYCISRMTKKSSVDIQSPEGGD',\n",
    "          'QLVHIFSEPV---IIGIIYAVMLGIIITILSIAFCIGQLTKKSSLPAQVASPED',\n",
    "          '-LAHDFSQPV---ITVIILGVMAGIIGIILLLAYVSRRLRKRP-----PADVP-',\n",
    "          'SYHQDFSHAE---ITGIIFAVMAGLLLIIFLIAYLIRRMIKKPLPVPKPQDSPD']\n",
    "\n",
    "\n",
    "aminoAcids = BLOSUM62.keys()\n",
    "print(calcSubstitutionMatrix([align2,], aminoAcids, 10))"
   ]
  },
  {
   "cell_type": "markdown",
   "id": "07af87e1-36a6-4dd0-bf3f-83e5e2586205",
   "metadata": {},
   "source": [
    "### Python code for calculating distance matrices"
   ]
  },
  {
   "cell_type": "code",
   "execution_count": 22,
   "id": "2ec679e3-746c-42d6-9c03-40206a415bb3",
   "metadata": {},
   "outputs": [
    {
     "name": "stdout",
     "output_type": "stream",
     "text": [
      "[[0.0, 14.0, 14.0, 15.0, 18.0, 16.0, 17.0], [14.0, 0.0, 15.0, 13.0, 18.0, 13.0, 15.0], [14.0, 15.0, 0.0, 18.0, 18.0, 15.0, 17.0], [15.0, 13.0, 18.0, 0.0, 17.0, 11.0, 15.0], [18.0, 18.0, 18.0, 17.0, 0.0, 21.0, 16.0], [16.0, 13.0, 15.0, 11.0, 21.0, 0.0, 17.0], [17.0, 15.0, 17.0, 15.0, 16.0, 17.0, 0.0]]\n"
     ]
    }
   ],
   "source": [
    "from Alignments import sequenceAlign, calcSeqSimilarity\n",
    "from math import exp\n",
    "\n",
    "def getDistanceMatrix(seqs, simMatrix):\n",
    "    \n",
    "    n = len(seqs)\n",
    "    matrix = [[0.0] * n for x in range(n)]\n",
    "    maxScores = [calcSeqSimilarity(x, x, simMatrix) for x in seqs]\n",
    "    \n",
    "    for i in range(n-1):\n",
    "        seqA = seqs[i]\n",
    "       \n",
    "        for j in range(i+1,n):\n",
    "            seqB = seqs[j]\n",
    "            score, alignA, alignB = sequenceAlign(seqA, seqB, simMatrix)\n",
    "            maxScore = max(maxScores[i],maxScores[j])\n",
    "            dist = maxScore - score\n",
    "            matrix[i][j] = dist\n",
    "            matrix[j][i] = dist\n",
    "            \n",
    "    return matrix\n",
    "\n",
    "\n",
    "\n",
    "distMatrix = getDistanceMatrix(randomAlign, DNA_1)\n",
    "\n",
    "print(distMatrix)"
   ]
  },
  {
   "cell_type": "code",
   "execution_count": null,
   "id": "ba693211-54f4-434c-a15a-b1d319da4419",
   "metadata": {},
   "outputs": [],
   "source": []
  }
 ],
 "metadata": {
  "kernelspec": {
   "display_name": "Python 3 (ipykernel)",
   "language": "python",
   "name": "python3"
  },
  "language_info": {
   "codemirror_mode": {
    "name": "ipython",
    "version": 3
   },
   "file_extension": ".py",
   "mimetype": "text/x-python",
   "name": "python",
   "nbconvert_exporter": "python",
   "pygments_lexer": "ipython3",
   "version": "3.8.12"
  }
 },
 "nbformat": 4,
 "nbformat_minor": 5
}
