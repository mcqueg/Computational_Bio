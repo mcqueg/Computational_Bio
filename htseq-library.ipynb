{
 "cells": [
  {
   "cell_type": "markdown",
   "id": "3cbcabf9-2a9c-441e-ab67-73930e7c1c5e",
   "metadata": {},
   "source": [
    "# code for using the HTSeq Library\n",
    "\n",
    "### The Python code for importing the HTSeq library (First, it is to be downloaded/installed)\n"
   ]
  },
  {
   "cell_type": "code",
   "execution_count": 2,
   "id": "6f08dafc-0ed5-4263-8cf0-cc53e827dec8",
   "metadata": {
    "tags": []
   },
   "outputs": [
    {
     "name": "stdout",
     "output_type": "stream",
     "text": [
      "Requirement already satisfied: HTSeq in /Users/garrettmccue/anaconda3/lib/python3.8/site-packages (0.13.5)\n",
      "Requirement already satisfied: pysam in /Users/garrettmccue/anaconda3/lib/python3.8/site-packages (from HTSeq) (0.17.0)\n",
      "Requirement already satisfied: numpy in /Users/garrettmccue/anaconda3/lib/python3.8/site-packages (from HTSeq) (1.21.2)\n"
     ]
    }
   ],
   "source": [
    "# install library\n",
    "!pip install HTSeq\n",
    "\n",
    "from HTSeq import FastqReader, SAM_Reader, GFF_Reader\n",
    "from HTSeq import GenomicArray, GenomicInterval \n",
    "\n",
    "from matplotlib import pyplot\n",
    "from numpy import array"
   ]
  },
  {
   "cell_type": "markdown",
   "id": "ce93f9ca-ecb9-4b96-92b6-317a6bce306b",
   "metadata": {},
   "source": [
    "\n",
    "### The Python code for importing a FASTQ-format sequence including a header file\n",
    "\n",
    "\n",
    "\n"
   ]
  },
  {
   "cell_type": "code",
   "execution_count": 4,
   "id": "5274abd7-2347-4ae3-aeb6-b07ce98d3b01",
   "metadata": {},
   "outputs": [],
   "source": [
    "def fastq_import(fastq_file):\n",
    "    fileObj = FastqReader(fastq_file)\n",
    "    \n",
    "    for seqRead in fileObj:\n",
    "        print(seqRead.name)\n",
    "        print(seqRead.seq)\n",
    "        print(seqRead.get_reverse_complement()[::-1])\n",
    "        "
   ]
  },
  {
   "cell_type": "markdown",
   "id": "dfbb7f08-3de2-4800-af76-79b18c652688",
   "metadata": {},
   "source": [
    "### The Python code for reading a genome alignment file\n",
    "\n"
   ]
  },
  {
   "cell_type": "code",
   "execution_count": 5,
   "id": "83977d03-6c88-4458-a4c1-9d9bd86a72e5",
   "metadata": {},
   "outputs": [],
   "source": [
    "def read_align(align_file):\n",
    "    chromosomes = set()\n",
    "    \n",
    "    for alignment in SAM_Reader(alignFile):\n",
    "        \n",
    "      if alignment.aligned:\n",
    "        seqRead = alignment.read\n",
    "        print(seqRead.name)\n",
    "        print(seqRead.seq)\n",
    "        \n",
    "    genomeRegion = alignment.iv\n",
    "    chromo = genomeRegion.chrom\n",
    "    strand = genomeRegion.strand\n",
    "    start = genomeRegion.start\n",
    "    end = genomeRegion.end\n",
    "    chromosomes.add(chromo)\n",
    "    print(chromo, start, end, strand)\n",
    "    \n",
    "    chromosomes = list(chromosomes)\n",
    "    hitMap = GenomicArray(chromosomes, stranded=True, typecode='i')\n",
    "    \n",
    "    \n",
    "    for alignment in SAM_Reader(alignFile):\n",
    "        \n",
    "      if alignment.aligned:\n",
    "        genomeRegion = alignment.iv\n",
    "        \n",
    "        if genomeRegion.strand == '+':\n",
    "          hitMap[genomeRegion] = 1\n",
    "        else:\n",
    "          hitMap[genomeRegion] = -1\n",
    "        \n",
    "    chromo = chromosomes[0]\n",
    "    endPoint = 2000000\n",
    "    plusStrand  = GenomicInterval(chromo, 0, endPoint, '+')\n",
    "    minusStrand = GenomicInterval(chromo, 0, endPoint, '-')\n",
    "    bothStrands = GenomicInterval(chromo, 0, endPoint, '.')\n",
    "    \n",
    "    pyplot.plot(list(hitMap[plusStrand]))\n",
    "    pyplot.plot(list(hitMap[minusStrand]))\n",
    "    pyplot.show()\n"
   ]
  },
  {
   "cell_type": "markdown",
   "id": "5d8d9eea-a02a-4c55-977f-a9978e77f976",
   "metadata": {},
   "source": [
    "### The Python code for annotating a high-throughput sequence file"
   ]
  },
  {
   "cell_type": "code",
   "execution_count": 6,
   "id": "5b642169-bf2f-462d-bd6e-5d3ead3482fd",
   "metadata": {},
   "outputs": [],
   "source": [
    "def annotate_htseq(gff_file):\n",
    "    fileObj = GFF_Reader(gff_file)\n",
    "    \n",
    "    for genomeFeature in fileObj:\n",
    "        genomeRegion = genomeFeature.iv\n",
    "        data = (genomeRegion.chrom,\n",
    "                genomeRegion.start,\n",
    "                genomeRegion.end,\n",
    "                genomeRegion.strand)\n",
    "        \n",
    "        print('%s %s - %s (%s)' % data)\n",
    "        \n",
    "        data = (genomeFeature.name,\n",
    "                genomeFeature.type,\n",
    "                genomeFeature.source)\n",
    "        \n",
    "        print('%s %s (%s)' % data)\n",
    "        print(genomeFeature.attr)\n",
    "        "
   ]
  },
  {
   "cell_type": "code",
   "execution_count": null,
   "id": "47ce01bb-06ad-4cc7-bf24-4a4741bf3843",
   "metadata": {},
   "outputs": [],
   "source": []
  }
 ],
 "metadata": {
  "kernelspec": {
   "display_name": "Python 3 (ipykernel)",
   "language": "python",
   "name": "python3"
  },
  "language_info": {
   "codemirror_mode": {
    "name": "ipython",
    "version": 3
   },
   "file_extension": ".py",
   "mimetype": "text/x-python",
   "name": "python",
   "nbconvert_exporter": "python",
   "pygments_lexer": "ipython3",
   "version": "3.8.12"
  }
 },
 "nbformat": 4,
 "nbformat_minor": 5
}
